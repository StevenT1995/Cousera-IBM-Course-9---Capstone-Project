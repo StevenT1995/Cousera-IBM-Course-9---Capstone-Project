{
 "cells": [
  {
   "cell_type": "markdown",
   "metadata": {},
   "source": [
    "First part of the code:\n",
    "\n",
    "- Get data of toronto neighborhoods from Wikipedia\n",
    "- Get toronto borough/neighborhood coordinates from csv file\n",
    "- Call Foursquare to get venues and locations\n",
    "- Save venue data in excel file"
   ]
  },
  {
   "cell_type": "code",
   "execution_count": 3,
   "metadata": {},
   "outputs": [],
   "source": [
    "import requests\n",
    "import pandas as pd\n",
    "import numpy as np\n",
    "import xlrd\n",
    "import xlsxwriter\n",
    "from bs4 import BeautifulSoup"
   ]
  },
  {
   "cell_type": "code",
   "execution_count": null,
   "metadata": {},
   "outputs": [],
   "source": [
    "# Define constants for Foursquare URL\n",
    "CLIENT_ID = 'STUXIOFXH55TITYVUTGKIDG3CAG50XD0B3SM2XE2WWB3IU1Q'\n",
    "CLIENT_SECRET = 'AU3QRD5UCY5MRYBX3K2E3MMBOGCVNTA2WMHPZTDEN4IJ4CLZ'\n",
    "VERSION = '20180605'\n",
    "Limit = 100"
   ]
  },
  {
   "cell_type": "code",
   "execution_count": 1,
   "metadata": {},
   "outputs": [],
   "source": [
    "# Function to call Foursquare App and assign found venues to Neighborhoods and boroughs\n",
    "def getNearbyVenues(names, latitudes, longitudes, radius=500):\n",
    "\n",
    "    venues_list=[]\n",
    "    for name, lat, lng in zip(names, latitudes, longitudes):\n",
    "\n",
    "        # URL of respective Foursquare App\n",
    "        url = 'https://api.foursquare.com/v2/venues/explore?&client_id={}&client_secret={}&v={}&ll={},{}&radius={}&limit={}'.format(\n",
    "            CLIENT_ID,\n",
    "            CLIENT_SECRET,\n",
    "            VERSION,\n",
    "            lat,\n",
    "            lng,\n",
    "            radius,\n",
    "            Limit)\n",
    "\n",
    "        # Results from Foursquare\n",
    "        # Note: Due to maximum amount of requests per day, errors might occur\n",
    "        results = requests.get(url).json()['response']['groups'][0]['items']\n",
    "\n",
    "\n",
    "        # Values to return\n",
    "        venues_list.append([(\n",
    "            name,\n",
    "            lat,\n",
    "            lng,\n",
    "            v['venue']['name'],\n",
    "            v['venue']['location']['lat'],\n",
    "            v['venue']['location']['lng'],\n",
    "            v['venue']['categories'][0]['name']) for v in results])\n",
    "\n",
    "    nearby_venues = pd.DataFrame([item for venue_list in venues_list for item in venue_list])\n",
    "    nearby_venues.columns = ['Neighborhood',\n",
    "                  'Neighborhood Latitude',\n",
    "                  'Neighborhood Longitude',\n",
    "                  'Venue',\n",
    "                  'Venue Latitude',\n",
    "                  'Venue Longitude',\n",
    "                  'Venue Category']\n",
    "\n",
    "    return(nearby_venues)"
   ]
  },
  {
   "cell_type": "code",
   "execution_count": null,
   "metadata": {},
   "outputs": [],
   "source": [
    "# Get Toronto location data from Wikipedia:\n",
    "\n",
    "wiki_url = requests.get('https://en.wikipedia.org/wiki/List_of_postal_codes_of_Canada:_M').text\n",
    "\n",
    "soup = BeautifulSoup(wiki_url,'lxml')\n",
    "print(soup.prettify())\n",
    "\n",
    "wiki_table = soup.find_all('table',{'class':'wikitable sortable'})\n",
    "table = wiki_table[0]\n",
    "\n",
    "header_row = table.find('tr')\n",
    "col_names = []\n",
    "\n",
    "\n",
    "content = []\n",
    "temp_post =[]\n",
    "temp_boro = []\n",
    "temp_neighbor = []\n",
    "\n",
    "# Iterate through wikipedia HTML text and get values\n",
    "for tr in table.find_all('tr'):\n",
    "\n",
    "    temp_list =[]\n",
    "\n",
    "    td_all = tr.find_all('td')\n",
    "\n",
    "    if not td_all:\n",
    "        continue\n",
    "\n",
    "    post, boro, neighbor = [td.text.strip() for td in td_all[0:3]]\n",
    "\n",
    "    temp_list.append(post)\n",
    "    temp_list.append(boro)\n",
    "    temp_list.append(neighbor)\n",
    "\n",
    "    content.append(temp_list)\n",
    "\n",
    "\n",
    "# Assign columns names to new df\n",
    "df_toronto = pd.DataFrame(data=content, columns=['PostalCode', 'Borough', 'Neighborhood'])\n",
    "\n",
    "df_toronto = df_toronto[df_toronto.Borough != 'Not assigned']"
   ]
  },
  {
   "cell_type": "code",
   "execution_count": null,
   "metadata": {},
   "outputs": [],
   "source": [
    "# Save df as \"toronto_original.xlsx\"\n",
    "writer = pd.ExcelWriter(r'C:\\Users\\User01\\Documents\\Online Courses\\IBM Data Science\\Course  9 - Capstone\\Main Project\\toronto_original', engine='xlsxwriter')\n",
    "\n",
    "df_toronto.to_excel(writer)\n",
    "\n",
    "writer.save()"
   ]
  },
  {
   "cell_type": "code",
   "execution_count": null,
   "metadata": {},
   "outputs": [],
   "source": [
    "# Read df with coordinates and merge with toronto postal data\n",
    "df_geo = pd.read_csv(r'C:\\Users\\User01\\Documents\\Online Courses\\IBM Data Science\\Course  9 - Capstone\\Main Project\\Geospatial_Toronto.csv')\n",
    "\n",
    "df_geo.rename(columns={'Postal Code':'PostalCode'}, inplace=True)\n",
    "\n",
    "df_torontoGEO = pd.merge(df_toronto, df_geo,how='left', on='PostalCode')\n",
    "\n",
    "# Toronto venues from Foursquare\n",
    "toronto_venues = getNearbyVenues(names=df_torontoGEO['Neighborhood'], latitudes=df_torontoGEO['Latitude'], longitudes=df_torontoGEO['Longitude'])"
   ]
  },
  {
   "cell_type": "code",
   "execution_count": null,
   "metadata": {},
   "outputs": [],
   "source": [
    "# Save nw df with venues as \"toronto_venues.xlsx\"\n",
    "toronto_excel = pd.ExcelWriter(r'C:\\Users\\User01\\Documents\\Online Courses\\IBM Data Science\\Course  9 - Capstone\\Main Project\\toronto_venues.xlsx', engine='xlsxwriter')\n",
    "\n",
    "toronto_venues.to_excel(toronto_excel, sheet_name='Toronto Venues')\n",
    "\n",
    "toronto_excel.save()"
   ]
  },
  {
   "cell_type": "markdown",
   "metadata": {},
   "source": [
    "Second part of code:\n",
    "\n",
    "- Create different data frames from toronto_venues\n",
    "- Group the data frames to explore data\n",
    "- Save each table into the same excel file\n",
    "- Additional: Check values in MS Excel"
   ]
  },
  {
   "cell_type": "code",
   "execution_count": null,
   "metadata": {},
   "outputs": [],
   "source": [
    "import pandas as pd\n",
    "import numpy as np\n",
    "import xlrd"
   ]
  },
  {
   "cell_type": "code",
   "execution_count": null,
   "metadata": {},
   "outputs": [],
   "source": [
    "# Read the excel file with Toronto data from other python file:\n",
    "toronto_venues = pd.read_excel(r'C:\\Users\\User01\\Documents\\Online Courses\\IBM Data Science\\Course  9 - Capstone\\Main Project\\toronto_venues.xlsx')\n",
    "\n",
    "toronto_venues.head()"
   ]
  },
  {
   "cell_type": "code",
   "execution_count": null,
   "metadata": {},
   "outputs": [],
   "source": [
    "# Drop location data\n",
    "venue_check = toronto_venues.drop(['Neighborhood Latitude', 'Neighborhood Longitude', 'Venue Latitude', 'Venue Longitude'], axis=1)\n",
    "\n",
    "# Create different data frames based on grouping\n",
    "to_venue_by_boro = venue_check.groupby('Neighborhood', as_index=False)['Venue','Venue Category'].agg(lambda x: len(x.value_counts()))\n",
    "to_venue_by_boro.sort_values(by='Neighborhood')\n",
    "\n",
    "\n",
    "to_venue_by_cat = venue_check.groupby('Venue Category', as_index=False)['Neighborhood'].agg(lambda x: len(x.value_counts()))\n",
    "to_venue_by_cat.sort_values(by='Venue Category')\n",
    "\n",
    "\n",
    "to_venue_by_venue = venue_check.groupby('Venue', as_index=False)['Neighborhood', 'Venue Category'].agg(lambda x: len(x.value_counts()))\n",
    "to_venue_by_venue.sort_values(by='Venue')"
   ]
  },
  {
   "cell_type": "code",
   "execution_count": null,
   "metadata": {},
   "outputs": [],
   "source": [
    "to_groups_excel = pd.ExcelWriter(r'C:\\Users\\User01\\Documents\\Online Courses\\IBM Data Science\\Course  9 - Capstone\\Main Project\\toronto_groups.xlsx', engine='xlsxwriter')\n",
    "\n",
    "# Export the grouped DataFrames to new excel file for later use or individual analysis in MS Excel.\n",
    "to_venue_by_boro.to_excel(to_groups_excel, sheet_name='Neighborhood boroughs Overview')\n",
    "to_venue_by_cat.to_excel(to_groups_excel, sheet_name='Venue Categories Overview')\n",
    "to_venue_by_venue.to_excel(to_groups_excel, sheet_name='Venues Overview')\n",
    "\n",
    "to_groups_excel.save()"
   ]
  },
  {
   "cell_type": "markdown",
   "metadata": {},
   "source": [
    "Third part of code:\n",
    "\n",
    "- Explore max values of data frames in Python\n",
    "- Load data from geojson file\n",
    "- Create choropleth chart to see the distribution of venues in Toronto\n"
   ]
  },
  {
   "cell_type": "code",
   "execution_count": null,
   "metadata": {},
   "outputs": [],
   "source": [
    "import pandas as pd\n",
    "import numpy as np\n",
    "import xlrd\n",
    "import folium\n",
    "import json\n"
   ]
  },
  {
   "cell_type": "code",
   "execution_count": null,
   "metadata": {},
   "outputs": [],
   "source": [
    "path_to_groups = r'C:\\Users\\User01\\Documents\\Online Courses\\IBM Data Science\\Course  9 - Capstone\\Main Project\\toronto_groups.xlsx'\n",
    "\n",
    "# Data to create geographical charts\n",
    "to_geojson = r'C:\\Users\\User01\\Documents\\Online Courses\\IBM Data Science\\Course  9 - Capstone\\Main Project\\toronto_crs84.geojson'\n",
    "to_lat = 43.653908\n",
    "to_long = -79.384293\n"
   ]
  },
  {
   "cell_type": "code",
   "execution_count": null,
   "metadata": {},
   "outputs": [],
   "source": [
    "# Read Excel data into dataframes again\n",
    "# Note: If data was sorted or changed in MS Excel, pandas might return wrong results due to mixed indices\n",
    "# Therefore, each index has been removed from excel files and is re-apllied when read into pandas\n",
    "to_venue_by_boro = pd.read_excel(path_to_groups, sheet_name='Neighborhood boroughs Overview')\n",
    "to_venue_by_cat = pd.read_excel(path_to_groups, sheet_name='Venue Categories Overview')\n",
    "to_venue_by_venue = pd.read_excel(path_to_groups, sheet_name='Venues Overview')"
   ]
  },
  {
   "cell_type": "code",
   "execution_count": null,
   "metadata": {},
   "outputs": [],
   "source": [
    "# Borough with most categories:\n",
    "i_max = to_venue_by_boro['Venue Category'].idxmax()\n",
    "print('The neighborhood with most different categories: ',to_venue_by_boro['Neighborhood'].iloc[i_max])\n",
    "\n",
    "# The most common venue category in boroughs:\n",
    "i_max = to_venue_by_cat['Neighborhood'].idxmax()\n",
    "print('The most common category: ',to_venue_by_cat['Venue Category'].iloc[i_max])\n",
    "\n",
    "# The most common venue name:\n",
    "i_max = to_venue_by_venue['Neighborhood'].idxmax()\n",
    "print('The most common venue name: ', to_venue_by_venue['Venue'].iloc[i_max])"
   ]
  },
  {
   "cell_type": "code",
   "execution_count": 3,
   "metadata": {},
   "outputs": [],
   "source": [
    "# Back to the main data frame:\n",
    "\n",
    "# Create choropleth chart for some Toronto areas.\n",
    "# Note: Geojson file and key_on feature of map prone to errors\n",
    "to_geojson = r'C:\\Users\\User01\\Documents\\Online Courses\\IBM Data Science\\Course  9 - Capstone\\Main Project\\toronto2.geojson'\n",
    "\n",
    "toronto_data = pd.read_excel(r'C:\\Users\\User01\\Documents\\Online Courses\\IBM Data Science\\Course  9 - Capstone\\Main Project\\toronto_venues.xlsx')"
   ]
  },
  {
   "cell_type": "code",
   "execution_count": null,
   "metadata": {},
   "outputs": [],
   "source": [
    "# Load data from geojson found on internet\n",
    "geo = read_json = json.load(open(to_geojson))\n",
    "\n",
    "df_to_choro = toronto_data.groupby(['Neighborhood'], as_index=False)['Venue'].agg(lambda x: len(x.value_counts()))\n",
    "\n",
    "# Create map from folium with threshold\n",
    "to_map = folium.Map(location=[to_lat, to_long], zoom_start=10, tiles='Mapbox bright')\n",
    "\n",
    "threshold_scale_1 = np.linspace(df_to_choro['Venue'].min(),\n",
    "                              df_to_choro['Venue'].max(),\n",
    "                              6, dtype=int)\n"
   ]
  },
  {
   "cell_type": "code",
   "execution_count": null,
   "metadata": {},
   "outputs": [],
   "source": [
    "# Create choropleth map\n",
    "# Note: Due to differences in data from Foursquare and geojson, choropleth map might be prone to errors\n",
    "to_map.choropleth(\n",
    "    geo_data=geo,\n",
    "    name='to_choropleth',\n",
    "    data=df_to_choro,\n",
    "    columns=['Neighborhood', 'Venue'],\n",
    "    key_on='feature.properties.name',\n",
    "    fill_color='BuGn',\n",
    "    fill_opacity=0.7,\n",
    "    line_opacity=0.3,\n",
    "    threshold_scale=threshold_scale_1)\n",
    "\n",
    "to_map"
   ]
  },
  {
   "cell_type": "markdown",
   "metadata": {},
   "source": [
    "Fourth part of code:\n",
    "\n",
    "- Create data frame that only contains information on restaurants of food stores in Toronto\n",
    "- Use kmeans cluster to create four clusters for the Neighborhoods \n",
    "\tbased on their restaurant density\n",
    "- Save the grouping into a new excel file\n"
   ]
  },
  {
   "cell_type": "code",
   "execution_count": null,
   "metadata": {},
   "outputs": [],
   "source": [
    "import pandas as pd\n",
    "import numpy as np\n",
    "import xlrd\n",
    "import xlsxwriter\n",
    "import sklearn\n",
    "import regex\n",
    "from sklearn.cluster import KMeans\n",
    "import folium"
   ]
  },
  {
   "cell_type": "code",
   "execution_count": null,
   "metadata": {},
   "outputs": [],
   "source": [
    "toronto_venues = pd.read_excel(r'C:\\Users\\User01\\Documents\\Online Courses\\IBM Data Science\\Course  9 - Capstone\\Main Project\\toronto_venues.xlsx')\n",
    "\n",
    "# List of food related places excluding shops but coffee shops:\n",
    "list_food = ['Restaurant', 'Cafe', 'Coffee', 'Food', 'Bar', 'Pub', 'Bakery', 'Beer', 'Ice', 'Burger', 'Diner', 'Pizza', 'Steak', 'Sushi', 'Sandwich', 'Mexican', 'Italian', 'Breakfast']\n",
    "\n",
    "df_food = toronto_venues\n",
    "\n",
    "# Iterate through df_food and drop all venue categories that have nothing to do with food\n",
    "for i, row in df_food.iterrows():\n",
    "\n",
    "    if not regex.search(r'\\L<list_food>', row['Venue Category'], list_food=list_food):\n",
    "        df_food.drop([i], inplace=True)"
   ]
  },
  {
   "cell_type": "code",
   "execution_count": null,
   "metadata": {},
   "outputs": [],
   "source": [
    "# Prepare data frames for clustering. See which neighborhoods fall into different clusters based on\n",
    "# their density of restaurants, bars, cafes etc.\n",
    "num_cluster = 4\n",
    "\n",
    "df_food_grouped = df_food.groupby('Neighborhood', as_index=False)['Venue Category'].count()\n",
    "\n",
    "toronto_food_cluster = df_food_grouped.drop('Neighborhood', axis=1)"
   ]
  },
  {
   "cell_type": "code",
   "execution_count": null,
   "metadata": {},
   "outputs": [],
   "source": [
    "# Initiate clustering with k means\n",
    "kmean_cluster = KMeans(n_clusters=num_cluster, random_state=0).fit(toronto_food_cluster)\n",
    "\n",
    "df_cluster = toronto_food_cluster\n",
    "\n",
    "df_cluster['Neighborhood'] = df_food_grouped['Neighborhood']\n",
    "\n",
    "df_cluster['Cluster'] = kmean_cluster.labels_\n",
    "\n",
    "df_cluster = df_cluster[['Neighborhood', 'Venue Category', 'Cluster']]\n",
    "\n",
    "print(df_cluster.head())"
   ]
  },
  {
   "cell_type": "code",
   "execution_count": null,
   "metadata": {},
   "outputs": [],
   "source": [
    "#Save data frame with clusters as \"food cluster neighbor.xlsx\"\n",
    "# Note: Other statistical data for each cluster can also be quickly evaluated in MS Excel\n",
    "excel_cluster = pd.ExcelWriter(r'C:\\Users\\User01\\Documents\\Online Courses\\IBM Data Science\\Course  9 - Capstone\\Main Project\\food cluster neighbor.xlsx', engine='xlsxwriter')\n",
    "\n",
    "df_cluster.to_excel(excel_cluster, sheet_name='Venue Category Clusters')\n",
    "\n",
    "excel_cluster.save()"
   ]
  }
 ],
 "metadata": {
  "kernelspec": {
   "display_name": "Python 3",
   "language": "python",
   "name": "python3"
  },
  "language_info": {
   "codemirror_mode": {
    "name": "ipython",
    "version": 3
   },
   "file_extension": ".py",
   "mimetype": "text/x-python",
   "name": "python",
   "nbconvert_exporter": "python",
   "pygments_lexer": "ipython3",
   "version": "3.7.0"
  }
 },
 "nbformat": 4,
 "nbformat_minor": 1
}
